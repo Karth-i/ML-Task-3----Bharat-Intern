{
 "cells": [
  {
   "cell_type": "code",
   "execution_count": 125,
   "id": "3d13fdc8",
   "metadata": {},
   "outputs": [
    {
     "name": "stdout",
     "output_type": "stream",
     "text": [
      "Task 3 ML  - B Karthik \n"
     ]
    }
   ],
   "source": [
    "print(\"Task 3 ML  - B Karthik \")"
   ]
  },
  {
   "cell_type": "code",
   "execution_count": 2,
   "id": "6121e2fb",
   "metadata": {},
   "outputs": [
    {
     "name": "stdout",
     "output_type": "stream",
     "text": [
      "WARNING:tensorflow:From C:\\Users\\Karthi\\anaconda3\\Lib\\site-packages\\keras\\src\\losses.py:2976: The name tf.losses.sparse_softmax_cross_entropy is deprecated. Please use tf.compat.v1.losses.sparse_softmax_cross_entropy instead.\n",
      "\n"
     ]
    }
   ],
   "source": [
    "import pandas as pd\n",
    "import matplotlib.pyplot as plt\n",
    "import tensorflow as tf"
   ]
  },
  {
   "cell_type": "code",
   "execution_count": 3,
   "id": "78e1b603",
   "metadata": {},
   "outputs": [],
   "source": [
    "import seaborn as sns"
   ]
  },
  {
   "cell_type": "code",
   "execution_count": 4,
   "id": "2e2a7058",
   "metadata": {},
   "outputs": [
    {
     "name": "stdout",
     "output_type": "stream",
     "text": [
      "Requirement already satisfied: utils in c:\\users\\karthi\\anaconda3\\lib\\site-packages (1.0.1)\n",
      "Note: you may need to restart the kernel to use updated packages.\n"
     ]
    }
   ],
   "source": [
    "pip install utils"
   ]
  },
  {
   "cell_type": "code",
   "execution_count": 22,
   "id": "05e61f9b",
   "metadata": {},
   "outputs": [],
   "source": [
    "from sklearn.model_selection import train_test_split\n",
    "from tensorflow.keras.models import Sequential\n",
    "import keras"
   ]
  },
  {
   "cell_type": "code",
   "execution_count": 5,
   "id": "d20aa2f6",
   "metadata": {},
   "outputs": [],
   "source": [
    "from tensorflow.keras.layers import Dense,Dropout\n",
    "from utils import *\n",
    "from sklearn.neural_network import MLPClassifier"
   ]
  },
  {
   "cell_type": "code",
   "execution_count": 6,
   "id": "8edcfbbb",
   "metadata": {},
   "outputs": [],
   "source": [
    "df = pd.read_csv(r\"C:\\Users\\Karthi\\Downloads\\archive (6)\\IRIS.csv\")"
   ]
  },
  {
   "cell_type": "code",
   "execution_count": 7,
   "id": "0f9c0ae1",
   "metadata": {},
   "outputs": [
    {
     "data": {
      "text/html": [
       "<div>\n",
       "<style scoped>\n",
       "    .dataframe tbody tr th:only-of-type {\n",
       "        vertical-align: middle;\n",
       "    }\n",
       "\n",
       "    .dataframe tbody tr th {\n",
       "        vertical-align: top;\n",
       "    }\n",
       "\n",
       "    .dataframe thead th {\n",
       "        text-align: right;\n",
       "    }\n",
       "</style>\n",
       "<table border=\"1\" class=\"dataframe\">\n",
       "  <thead>\n",
       "    <tr style=\"text-align: right;\">\n",
       "      <th></th>\n",
       "      <th>sepal_length</th>\n",
       "      <th>sepal_width</th>\n",
       "      <th>petal_length</th>\n",
       "      <th>petal_width</th>\n",
       "      <th>species</th>\n",
       "    </tr>\n",
       "  </thead>\n",
       "  <tbody>\n",
       "    <tr>\n",
       "      <th>0</th>\n",
       "      <td>5.1</td>\n",
       "      <td>3.5</td>\n",
       "      <td>1.4</td>\n",
       "      <td>0.2</td>\n",
       "      <td>Iris-setosa</td>\n",
       "    </tr>\n",
       "    <tr>\n",
       "      <th>1</th>\n",
       "      <td>4.9</td>\n",
       "      <td>3.0</td>\n",
       "      <td>1.4</td>\n",
       "      <td>0.2</td>\n",
       "      <td>Iris-setosa</td>\n",
       "    </tr>\n",
       "    <tr>\n",
       "      <th>2</th>\n",
       "      <td>4.7</td>\n",
       "      <td>3.2</td>\n",
       "      <td>1.3</td>\n",
       "      <td>0.2</td>\n",
       "      <td>Iris-setosa</td>\n",
       "    </tr>\n",
       "    <tr>\n",
       "      <th>3</th>\n",
       "      <td>4.6</td>\n",
       "      <td>3.1</td>\n",
       "      <td>1.5</td>\n",
       "      <td>0.2</td>\n",
       "      <td>Iris-setosa</td>\n",
       "    </tr>\n",
       "    <tr>\n",
       "      <th>4</th>\n",
       "      <td>5.0</td>\n",
       "      <td>3.6</td>\n",
       "      <td>1.4</td>\n",
       "      <td>0.2</td>\n",
       "      <td>Iris-setosa</td>\n",
       "    </tr>\n",
       "  </tbody>\n",
       "</table>\n",
       "</div>"
      ],
      "text/plain": [
       "   sepal_length  sepal_width  petal_length  petal_width      species\n",
       "0           5.1          3.5           1.4          0.2  Iris-setosa\n",
       "1           4.9          3.0           1.4          0.2  Iris-setosa\n",
       "2           4.7          3.2           1.3          0.2  Iris-setosa\n",
       "3           4.6          3.1           1.5          0.2  Iris-setosa\n",
       "4           5.0          3.6           1.4          0.2  Iris-setosa"
      ]
     },
     "execution_count": 7,
     "metadata": {},
     "output_type": "execute_result"
    }
   ],
   "source": [
    "df.head()"
   ]
  },
  {
   "cell_type": "code",
   "execution_count": 8,
   "id": "c7413a5e",
   "metadata": {},
   "outputs": [
    {
     "name": "stdout",
     "output_type": "stream",
     "text": [
      "<class 'pandas.core.frame.DataFrame'>\n",
      "RangeIndex: 150 entries, 0 to 149\n",
      "Data columns (total 5 columns):\n",
      " #   Column        Non-Null Count  Dtype  \n",
      "---  ------        --------------  -----  \n",
      " 0   sepal_length  150 non-null    float64\n",
      " 1   sepal_width   150 non-null    float64\n",
      " 2   petal_length  150 non-null    float64\n",
      " 3   petal_width   150 non-null    float64\n",
      " 4   species       150 non-null    object \n",
      "dtypes: float64(4), object(1)\n",
      "memory usage: 6.0+ KB\n"
     ]
    }
   ],
   "source": [
    "df.info()"
   ]
  },
  {
   "cell_type": "code",
   "execution_count": 9,
   "id": "97509f13",
   "metadata": {},
   "outputs": [
    {
     "data": {
      "text/plain": [
       "sepal_length    0\n",
       "sepal_width     0\n",
       "petal_length    0\n",
       "petal_width     0\n",
       "species         0\n",
       "dtype: int64"
      ]
     },
     "execution_count": 9,
     "metadata": {},
     "output_type": "execute_result"
    }
   ],
   "source": [
    "df.isnull().sum()"
   ]
  },
  {
   "cell_type": "code",
   "execution_count": 70,
   "id": "e75d85ab",
   "metadata": {},
   "outputs": [
    {
     "data": {
      "image/png": "[encoded data removed]",
      "text/plain": [
       "<Figure size 600x600 with 1 Axes>"
      ]
     },
     "metadata": {},
     "output_type": "display_data"
    }
   ],
   "source": [
    "plt.figure(figsize=(6,6))\n",
    "sns.violinplot(x='species', y='petal_width', data=df)\n",
    "plt.title(\"Petal width Violin Plot\")\n",
    "plt.grid()\n",
    "plt.show()"
   ]
  },
  {
   "cell_type": "code",
   "execution_count": 71,
   "id": "850ff854",
   "metadata": {},
   "outputs": [
    {
     "data": {
      "image/png": "[encoded data removed]",
      "text/plain": [
       "<Figure size 600x600 with 1 Axes>"
      ]
     },
     "metadata": {},
     "output_type": "display_data"
    }
   ],
   "source": [
    "plt.figure(figsize=(6,6))\n",
    "sns.violinplot(x='species', y='sepal_width', data=df)\n",
    "plt.title(\"Sepal Width Violin Plot\")\n",
    "plt.grid()\n",
    "plt.show()"
   ]
  },
  {
   "cell_type": "code",
   "execution_count": 10,
   "id": "884dc65a",
   "metadata": {},
   "outputs": [
    {
     "data": {
      "image/png": "[encoded data removed]",
      "text/plain": [
       "<Figure size 600x600 with 1 Axes>"
      ]
     },
     "metadata": {},
     "output_type": "display_data"
    }
   ],
   "source": [
    "plt.figure(figsize=(6,6))\n",
    "sns.violinplot(x='species', y='sepal_length', data=df)\n",
    "plt.title(\"Sepal Length Violin Plot\")\n",
    "plt.grid()\n",
    "plt.show()"
   ]
  },
  {
   "cell_type": "code",
   "execution_count": 11,
   "id": "b2d90437",
   "metadata": {},
   "outputs": [
    {
     "data": {
      "image/png": "[encoded data removed]",
      "text/plain": [
       "<Figure size 600x600 with 1 Axes>"
      ]
     },
     "metadata": {},
     "output_type": "display_data"
    }
   ],
   "source": [
    "plt.figure(figsize=(6,6))\n",
    "sns.violinplot(x='species', y='petal_length', data=df)\n",
    "plt.title(\"Petal Length Violin Plot\")\n",
    "plt.grid()\n",
    "plt.show()"
   ]
  },
  {
   "cell_type": "code",
   "execution_count": 12,
   "id": "25f7af1d",
   "metadata": {},
   "outputs": [
    {
     "data": {
      "text/html": [
       "<div>\n",
       "<style scoped>\n",
       "    .dataframe tbody tr th:only-of-type {\n",
       "        vertical-align: middle;\n",
       "    }\n",
       "\n",
       "    .dataframe tbody tr th {\n",
       "        vertical-align: top;\n",
       "    }\n",
       "\n",
       "    .dataframe thead th {\n",
       "        text-align: right;\n",
       "    }\n",
       "</style>\n",
       "<table border=\"1\" class=\"dataframe\">\n",
       "  <thead>\n",
       "    <tr style=\"text-align: right;\">\n",
       "      <th></th>\n",
       "      <th>sepal_length</th>\n",
       "      <th>sepal_width</th>\n",
       "      <th>petal_length</th>\n",
       "      <th>petal_width</th>\n",
       "    </tr>\n",
       "  </thead>\n",
       "  <tbody>\n",
       "    <tr>\n",
       "      <th>count</th>\n",
       "      <td>150.000000</td>\n",
       "      <td>150.000000</td>\n",
       "      <td>150.000000</td>\n",
       "      <td>150.000000</td>\n",
       "    </tr>\n",
       "    <tr>\n",
       "      <th>mean</th>\n",
       "      <td>5.843333</td>\n",
       "      <td>3.054000</td>\n",
       "      <td>3.758667</td>\n",
       "      <td>1.198667</td>\n",
       "    </tr>\n",
       "    <tr>\n",
       "      <th>std</th>\n",
       "      <td>0.828066</td>\n",
       "      <td>0.433594</td>\n",
       "      <td>1.764420</td>\n",
       "      <td>0.763161</td>\n",
       "    </tr>\n",
       "    <tr>\n",
       "      <th>min</th>\n",
       "      <td>4.300000</td>\n",
       "      <td>2.000000</td>\n",
       "      <td>1.000000</td>\n",
       "      <td>0.100000</td>\n",
       "    </tr>\n",
       "    <tr>\n",
       "      <th>25%</th>\n",
       "      <td>5.100000</td>\n",
       "      <td>2.800000</td>\n",
       "      <td>1.600000</td>\n",
       "      <td>0.300000</td>\n",
       "    </tr>\n",
       "    <tr>\n",
       "      <th>50%</th>\n",
       "      <td>5.800000</td>\n",
       "      <td>3.000000</td>\n",
       "      <td>4.350000</td>\n",
       "      <td>1.300000</td>\n",
       "    </tr>\n",
       "    <tr>\n",
       "      <th>75%</th>\n",
       "      <td>6.400000</td>\n",
       "      <td>3.300000</td>\n",
       "      <td>5.100000</td>\n",
       "      <td>1.800000</td>\n",
       "    </tr>\n",
       "    <tr>\n",
       "      <th>max</th>\n",
       "      <td>7.900000</td>\n",
       "      <td>4.400000</td>\n",
       "      <td>6.900000</td>\n",
       "      <td>2.500000</td>\n",
       "    </tr>\n",
       "  </tbody>\n",
       "</table>\n",
       "</div>"
      ],
      "text/plain": [
       "       sepal_length  sepal_width  petal_length  petal_width\n",
       "count    150.000000   150.000000    150.000000   150.000000\n",
       "mean       5.843333     3.054000      3.758667     1.198667\n",
       "std        0.828066     0.433594      1.764420     0.763161\n",
       "min        4.300000     2.000000      1.000000     0.100000\n",
       "25%        5.100000     2.800000      1.600000     0.300000\n",
       "50%        5.800000     3.000000      4.350000     1.300000\n",
       "75%        6.400000     3.300000      5.100000     1.800000\n",
       "max        7.900000     4.400000      6.900000     2.500000"
      ]
     },
     "execution_count": 12,
     "metadata": {},
     "output_type": "execute_result"
    }
   ],
   "source": [
    "df.describe()"
   ]
  },
  {
   "cell_type": "code",
   "execution_count": 13,
   "id": "80d9eb2b",
   "metadata": {},
   "outputs": [
    {
     "name": "stdout",
     "output_type": "stream",
     "text": [
      "Dimensions of the dataset: (150, 5)\n"
     ]
    }
   ],
   "source": [
    "print(\"Dimensions of the dataset:\",df.shape)"
   ]
  },
  {
   "cell_type": "code",
   "execution_count": 14,
   "id": "422b7a8b",
   "metadata": {},
   "outputs": [],
   "source": [
    "from sklearn.preprocessing import StandardScaler, LabelEncoder"
   ]
  },
  {
   "cell_type": "code",
   "execution_count": 15,
   "id": "98a93c9a",
   "metadata": {},
   "outputs": [
    {
     "data": {
      "text/html": [
       "<div>\n",
       "<style scoped>\n",
       "    .dataframe tbody tr th:only-of-type {\n",
       "        vertical-align: middle;\n",
       "    }\n",
       "\n",
       "    .dataframe tbody tr th {\n",
       "        vertical-align: top;\n",
       "    }\n",
       "\n",
       "    .dataframe thead th {\n",
       "        text-align: right;\n",
       "    }\n",
       "</style>\n",
       "<table border=\"1\" class=\"dataframe\">\n",
       "  <thead>\n",
       "    <tr style=\"text-align: right;\">\n",
       "      <th></th>\n",
       "      <th>sepal_length</th>\n",
       "      <th>sepal_width</th>\n",
       "      <th>petal_length</th>\n",
       "      <th>petal_width</th>\n",
       "      <th>species</th>\n",
       "    </tr>\n",
       "  </thead>\n",
       "  <tbody>\n",
       "    <tr>\n",
       "      <th>0</th>\n",
       "      <td>5.1</td>\n",
       "      <td>3.5</td>\n",
       "      <td>1.4</td>\n",
       "      <td>0.2</td>\n",
       "      <td>0</td>\n",
       "    </tr>\n",
       "    <tr>\n",
       "      <th>1</th>\n",
       "      <td>4.9</td>\n",
       "      <td>3.0</td>\n",
       "      <td>1.4</td>\n",
       "      <td>0.2</td>\n",
       "      <td>0</td>\n",
       "    </tr>\n",
       "    <tr>\n",
       "      <th>2</th>\n",
       "      <td>4.7</td>\n",
       "      <td>3.2</td>\n",
       "      <td>1.3</td>\n",
       "      <td>0.2</td>\n",
       "      <td>0</td>\n",
       "    </tr>\n",
       "    <tr>\n",
       "      <th>3</th>\n",
       "      <td>4.6</td>\n",
       "      <td>3.1</td>\n",
       "      <td>1.5</td>\n",
       "      <td>0.2</td>\n",
       "      <td>0</td>\n",
       "    </tr>\n",
       "    <tr>\n",
       "      <th>4</th>\n",
       "      <td>5.0</td>\n",
       "      <td>3.6</td>\n",
       "      <td>1.4</td>\n",
       "      <td>0.2</td>\n",
       "      <td>0</td>\n",
       "    </tr>\n",
       "  </tbody>\n",
       "</table>\n",
       "</div>"
      ],
      "text/plain": [
       "   sepal_length  sepal_width  petal_length  petal_width  species\n",
       "0           5.1          3.5           1.4          0.2        0\n",
       "1           4.9          3.0           1.4          0.2        0\n",
       "2           4.7          3.2           1.3          0.2        0\n",
       "3           4.6          3.1           1.5          0.2        0\n",
       "4           5.0          3.6           1.4          0.2        0"
      ]
     },
     "execution_count": 15,
     "metadata": {},
     "output_type": "execute_result"
    }
   ],
   "source": [
    "le = LabelEncoder()\n",
    "df[\"species\"] = le.fit_transform(df[\"species\"])\n",
    "df.head()"
   ]
  },
  {
   "cell_type": "code",
   "execution_count": 16,
   "id": "311b9929",
   "metadata": {},
   "outputs": [
    {
     "name": "stdout",
     "output_type": "stream",
     "text": [
      "['Iris-setosa' 'Iris-versicolor' 'Iris-virginica']\n"
     ]
    }
   ],
   "source": [
    "names = le.classes_\n",
    "print(names)"
   ]
  },
  {
   "cell_type": "code",
   "execution_count": 18,
   "id": "53dfe6c4",
   "metadata": {},
   "outputs": [
    {
     "data": {
      "text/html": [
       "<div>\n",
       "<style scoped>\n",
       "    .dataframe tbody tr th:only-of-type {\n",
       "        vertical-align: middle;\n",
       "    }\n",
       "\n",
       "    .dataframe tbody tr th {\n",
       "        vertical-align: top;\n",
       "    }\n",
       "\n",
       "    .dataframe thead th {\n",
       "        text-align: right;\n",
       "    }\n",
       "</style>\n",
       "<table border=\"1\" class=\"dataframe\">\n",
       "  <thead>\n",
       "    <tr style=\"text-align: right;\">\n",
       "      <th></th>\n",
       "      <th>sepal_length</th>\n",
       "      <th>sepal_width</th>\n",
       "      <th>petal_length</th>\n",
       "      <th>petal_width</th>\n",
       "    </tr>\n",
       "  </thead>\n",
       "  <tbody>\n",
       "    <tr>\n",
       "      <th>0</th>\n",
       "      <td>5.1</td>\n",
       "      <td>3.5</td>\n",
       "      <td>1.4</td>\n",
       "      <td>0.2</td>\n",
       "    </tr>\n",
       "    <tr>\n",
       "      <th>1</th>\n",
       "      <td>4.9</td>\n",
       "      <td>3.0</td>\n",
       "      <td>1.4</td>\n",
       "      <td>0.2</td>\n",
       "    </tr>\n",
       "    <tr>\n",
       "      <th>2</th>\n",
       "      <td>4.7</td>\n",
       "      <td>3.2</td>\n",
       "      <td>1.3</td>\n",
       "      <td>0.2</td>\n",
       "    </tr>\n",
       "    <tr>\n",
       "      <th>3</th>\n",
       "      <td>4.6</td>\n",
       "      <td>3.1</td>\n",
       "      <td>1.5</td>\n",
       "      <td>0.2</td>\n",
       "    </tr>\n",
       "    <tr>\n",
       "      <th>4</th>\n",
       "      <td>5.0</td>\n",
       "      <td>3.6</td>\n",
       "      <td>1.4</td>\n",
       "      <td>0.2</td>\n",
       "    </tr>\n",
       "  </tbody>\n",
       "</table>\n",
       "</div>"
      ],
      "text/plain": [
       "   sepal_length  sepal_width  petal_length  petal_width\n",
       "0           5.1          3.5           1.4          0.2\n",
       "1           4.9          3.0           1.4          0.2\n",
       "2           4.7          3.2           1.3          0.2\n",
       "3           4.6          3.1           1.5          0.2\n",
       "4           5.0          3.6           1.4          0.2"
      ]
     },
     "execution_count": 18,
     "metadata": {},
     "output_type": "execute_result"
    }
   ],
   "source": [
    "x =  df.drop('species', axis=1)\n",
    "y = df['species']\n",
    "x.head()"
   ]
  },
  {
   "cell_type": "code",
   "execution_count": 19,
   "id": "cbfd4882",
   "metadata": {},
   "outputs": [
    {
     "data": {
      "text/plain": [
       "0    0\n",
       "1    0\n",
       "2    0\n",
       "Name: species, dtype: int32"
      ]
     },
     "execution_count": 19,
     "metadata": {},
     "output_type": "execute_result"
    }
   ],
   "source": [
    "y[:3]"
   ]
  },
  {
   "cell_type": "code",
   "execution_count": 36,
   "id": "34617108",
   "metadata": {},
   "outputs": [],
   "source": [
    "x_train, x_test, y_train, y_test = train_test_split(x, y, test_size=0.3, shuffle =  True, random_state=42)"
   ]
  },
  {
   "cell_type": "code",
   "execution_count": 37,
   "id": "cebb12db",
   "metadata": {},
   "outputs": [
    {
     "name": "stdout",
     "output_type": "stream",
     "text": [
      "X_train shape: (105, 4)\n",
      "X_test shape: (45, 4)\n"
     ]
    }
   ],
   "source": [
    "print(\"X_train shape:\",x_train.shape)\n",
    "print(\"X_test shape:\",x_test.shape)"
   ]
  },
  {
   "cell_type": "code",
   "execution_count": 38,
   "id": "ee466e5d",
   "metadata": {},
   "outputs": [],
   "source": [
    "sc = StandardScaler()\n",
    "x_train = sc.fit_transform(x_train)\n",
    "x_test = sc.transform(x_test)"
   ]
  },
  {
   "cell_type": "code",
   "execution_count": 39,
   "id": "72341d70",
   "metadata": {},
   "outputs": [
    {
     "name": "stdout",
     "output_type": "stream",
     "text": [
      "[[0. 1. 0.]\n",
      " [0. 0. 1.]\n",
      " [0. 0. 1.]]\n"
     ]
    }
   ],
   "source": [
    "y_train = keras.utils.to_categorical(y_train,num_classes=3)\n",
    "print(y_train[:3])"
   ]
  },
  {
   "cell_type": "code",
   "execution_count": 40,
   "id": "d2e8bb92",
   "metadata": {},
   "outputs": [],
   "source": [
    "model = Sequential([\n",
    "    Dense(28,input_shape = (4,),activation = \"relu\"),\n",
    "    Dense(32,activation = \"relu\"),\n",
    "    Dropout(0.5),\n",
    "    Dense(3,activation = \"softmax\"),\n",
    "])\n",
    "model.compile(optimizer='adam', loss='categorical_crossentropy',metrics=['accuracy'])"
   ]
  },
  {
   "cell_type": "code",
   "execution_count": 41,
   "id": "7d6970fd",
   "metadata": {},
   "outputs": [
    {
     "name": "stdout",
     "output_type": "stream",
     "text": [
      "Model: \"sequential_1\"\n",
      "_________________________________________________________________\n",
      " Layer (type)                Output Shape              Param #   \n",
      "=================================================================\n",
      " dense_3 (Dense)             (None, 28)                140       \n",
      "                                                                 \n",
      " dense_4 (Dense)             (None, 32)                928       \n",
      "                                                                 \n",
      " dropout_1 (Dropout)         (None, 32)                0         \n",
      "                                                                 \n",
      " dense_5 (Dense)             (None, 3)                 99        \n",
      "                                                                 \n",
      "=================================================================\n",
      "Total params: 1167 (4.56 KB)\n",
      "Trainable params: 1167 (4.56 KB)\n",
      "Non-trainable params: 0 (0.00 Byte)\n",
      "_________________________________________________________________\n"
     ]
    }
   ],
   "source": [
    "model.summary()"
   ]
  },
  {
   "cell_type": "code",
   "execution_count": 42,
   "id": "63254457",
   "metadata": {},
   "outputs": [
    {
     "name": "stdout",
     "output_type": "stream",
     "text": [
      "Epoch 1/100\n",
      "WARNING:tensorflow:From C:\\Users\\Karthi\\anaconda3\\Lib\\site-packages\\keras\\src\\utils\\tf_utils.py:492: The name tf.ragged.RaggedTensorValue is deprecated. Please use tf.compat.v1.ragged.RaggedTensorValue instead.\n",
      "\n",
      "WARNING:tensorflow:From C:\\Users\\Karthi\\anaconda3\\Lib\\site-packages\\keras\\src\\engine\\base_layer_utils.py:384: The name tf.executing_eagerly_outside_functions is deprecated. Please use tf.compat.v1.executing_eagerly_outside_functions instead.\n",
      "\n",
      "4/4 - 4s - loss: 1.0105 - accuracy: 0.4667 - 4s/epoch - 1s/step\n",
      "Epoch 2/100\n",
      "4/4 - 0s - loss: 0.9934 - accuracy: 0.4381 - 47ms/epoch - 12ms/step\n",
      "Epoch 3/100\n",
      "4/4 - 0s - loss: 0.9858 - accuracy: 0.4952 - 29ms/epoch - 7ms/step\n",
      "Epoch 4/100\n",
      "4/4 - 0s - loss: 0.9454 - accuracy: 0.5429 - 33ms/epoch - 8ms/step\n",
      "Epoch 5/100\n",
      "4/4 - 0s - loss: 0.9264 - accuracy: 0.5524 - 24ms/epoch - 6ms/step\n",
      "Epoch 6/100\n",
      "4/4 - 0s - loss: 0.9061 - accuracy: 0.6095 - 23ms/epoch - 6ms/step\n",
      "Epoch 7/100\n",
      "4/4 - 0s - loss: 0.8645 - accuracy: 0.6381 - 21ms/epoch - 5ms/step\n",
      "Epoch 8/100\n",
      "4/4 - 0s - loss: 0.8402 - accuracy: 0.6571 - 25ms/epoch - 6ms/step\n",
      "Epoch 9/100\n",
      "4/4 - 0s - loss: 0.8232 - accuracy: 0.6857 - 24ms/epoch - 6ms/step\n",
      "Epoch 10/100\n",
      "4/4 - 0s - loss: 0.8357 - accuracy: 0.6571 - 24ms/epoch - 6ms/step\n",
      "Epoch 11/100\n",
      "4/4 - 0s - loss: 0.7785 - accuracy: 0.7333 - 22ms/epoch - 5ms/step\n",
      "Epoch 12/100\n",
      "4/4 - 0s - loss: 0.7529 - accuracy: 0.7429 - 22ms/epoch - 6ms/step\n",
      "Epoch 13/100\n",
      "4/4 - 0s - loss: 0.7380 - accuracy: 0.7333 - 24ms/epoch - 6ms/step\n",
      "Epoch 14/100\n",
      "4/4 - 0s - loss: 0.7351 - accuracy: 0.7524 - 26ms/epoch - 7ms/step\n",
      "Epoch 15/100\n",
      "4/4 - 0s - loss: 0.7053 - accuracy: 0.7143 - 23ms/epoch - 6ms/step\n",
      "Epoch 16/100\n",
      "4/4 - 0s - loss: 0.6883 - accuracy: 0.7714 - 23ms/epoch - 6ms/step\n",
      "Epoch 17/100\n",
      "4/4 - 0s - loss: 0.6572 - accuracy: 0.7714 - 20ms/epoch - 5ms/step\n",
      "Epoch 18/100\n",
      "4/4 - 0s - loss: 0.6265 - accuracy: 0.7905 - 25ms/epoch - 6ms/step\n",
      "Epoch 19/100\n",
      "4/4 - 0s - loss: 0.6424 - accuracy: 0.7619 - 24ms/epoch - 6ms/step\n",
      "Epoch 20/100\n",
      "4/4 - 0s - loss: 0.6272 - accuracy: 0.8190 - 20ms/epoch - 5ms/step\n",
      "Epoch 21/100\n",
      "4/4 - 0s - loss: 0.6130 - accuracy: 0.7810 - 23ms/epoch - 6ms/step\n",
      "Epoch 22/100\n",
      "4/4 - 0s - loss: 0.5595 - accuracy: 0.8286 - 23ms/epoch - 6ms/step\n",
      "Epoch 23/100\n",
      "4/4 - 0s - loss: 0.5406 - accuracy: 0.8095 - 22ms/epoch - 6ms/step\n",
      "Epoch 24/100\n",
      "4/4 - 0s - loss: 0.5009 - accuracy: 0.8667 - 21ms/epoch - 5ms/step\n",
      "Epoch 25/100\n",
      "4/4 - 0s - loss: 0.5728 - accuracy: 0.8381 - 24ms/epoch - 6ms/step\n",
      "Epoch 26/100\n",
      "4/4 - 0s - loss: 0.5421 - accuracy: 0.8000 - 22ms/epoch - 5ms/step\n",
      "Epoch 27/100\n",
      "4/4 - 0s - loss: 0.4787 - accuracy: 0.8381 - 22ms/epoch - 6ms/step\n",
      "Epoch 28/100\n",
      "4/4 - 0s - loss: 0.4414 - accuracy: 0.8857 - 18ms/epoch - 5ms/step\n",
      "Epoch 29/100\n",
      "4/4 - 0s - loss: 0.5148 - accuracy: 0.8190 - 22ms/epoch - 6ms/step\n",
      "Epoch 30/100\n",
      "4/4 - 0s - loss: 0.4613 - accuracy: 0.8571 - 22ms/epoch - 5ms/step\n",
      "Epoch 31/100\n",
      "4/4 - 0s - loss: 0.4631 - accuracy: 0.8571 - 21ms/epoch - 5ms/step\n",
      "Epoch 32/100\n",
      "4/4 - 0s - loss: 0.4425 - accuracy: 0.8286 - 28ms/epoch - 7ms/step\n",
      "Epoch 33/100\n",
      "4/4 - 0s - loss: 0.3986 - accuracy: 0.8667 - 23ms/epoch - 6ms/step\n",
      "Epoch 34/100\n",
      "4/4 - 0s - loss: 0.4052 - accuracy: 0.8857 - 22ms/epoch - 5ms/step\n",
      "Epoch 35/100\n",
      "4/4 - 0s - loss: 0.3900 - accuracy: 0.8857 - 19ms/epoch - 5ms/step\n",
      "Epoch 36/100\n",
      "4/4 - 0s - loss: 0.3841 - accuracy: 0.8667 - 20ms/epoch - 5ms/step\n",
      "Epoch 37/100\n",
      "4/4 - 0s - loss: 0.3819 - accuracy: 0.8762 - 21ms/epoch - 5ms/step\n",
      "Epoch 38/100\n",
      "4/4 - 0s - loss: 0.3783 - accuracy: 0.8762 - 21ms/epoch - 5ms/step\n",
      "Epoch 39/100\n",
      "4/4 - 0s - loss: 0.4624 - accuracy: 0.8667 - 21ms/epoch - 5ms/step\n",
      "Epoch 40/100\n",
      "4/4 - 0s - loss: 0.3571 - accuracy: 0.8571 - 24ms/epoch - 6ms/step\n",
      "Epoch 41/100\n",
      "4/4 - 0s - loss: 0.3701 - accuracy: 0.8667 - 24ms/epoch - 6ms/step\n",
      "Epoch 42/100\n",
      "4/4 - 0s - loss: 0.3289 - accuracy: 0.8952 - 23ms/epoch - 6ms/step\n",
      "Epoch 43/100\n",
      "4/4 - 0s - loss: 0.3481 - accuracy: 0.8952 - 22ms/epoch - 5ms/step\n",
      "Epoch 44/100\n",
      "4/4 - 0s - loss: 0.3164 - accuracy: 0.9143 - 20ms/epoch - 5ms/step\n",
      "Epoch 45/100\n",
      "4/4 - 0s - loss: 0.3222 - accuracy: 0.8952 - 21ms/epoch - 5ms/step\n",
      "Epoch 46/100\n",
      "4/4 - 0s - loss: 0.3210 - accuracy: 0.8952 - 22ms/epoch - 6ms/step\n",
      "Epoch 47/100\n",
      "4/4 - 0s - loss: 0.3371 - accuracy: 0.8762 - 22ms/epoch - 6ms/step\n",
      "Epoch 48/100\n",
      "4/4 - 0s - loss: 0.2782 - accuracy: 0.8952 - 22ms/epoch - 5ms/step\n",
      "Epoch 49/100\n",
      "4/4 - 0s - loss: 0.3185 - accuracy: 0.8952 - 23ms/epoch - 6ms/step\n",
      "Epoch 50/100\n",
      "4/4 - 0s - loss: 0.2619 - accuracy: 0.9238 - 22ms/epoch - 5ms/step\n",
      "Epoch 51/100\n",
      "4/4 - 0s - loss: 0.3165 - accuracy: 0.8952 - 19ms/epoch - 5ms/step\n",
      "Epoch 52/100\n",
      "4/4 - 0s - loss: 0.2670 - accuracy: 0.9333 - 24ms/epoch - 6ms/step\n",
      "Epoch 53/100\n",
      "4/4 - 0s - loss: 0.2829 - accuracy: 0.9429 - 22ms/epoch - 5ms/step\n",
      "Epoch 54/100\n",
      "4/4 - 0s - loss: 0.2938 - accuracy: 0.9238 - 20ms/epoch - 5ms/step\n",
      "Epoch 55/100\n",
      "4/4 - 0s - loss: 0.2689 - accuracy: 0.9143 - 19ms/epoch - 5ms/step\n",
      "Epoch 56/100\n",
      "4/4 - 0s - loss: 0.2698 - accuracy: 0.9048 - 20ms/epoch - 5ms/step\n",
      "Epoch 57/100\n",
      "4/4 - 0s - loss: 0.2492 - accuracy: 0.9429 - 20ms/epoch - 5ms/step\n",
      "Epoch 58/100\n",
      "4/4 - 0s - loss: 0.2362 - accuracy: 0.9429 - 22ms/epoch - 5ms/step\n",
      "Epoch 59/100\n",
      "4/4 - 0s - loss: 0.2512 - accuracy: 0.9333 - 19ms/epoch - 5ms/step\n",
      "Epoch 60/100\n",
      "4/4 - 0s - loss: 0.2647 - accuracy: 0.8952 - 20ms/epoch - 5ms/step\n",
      "Epoch 61/100\n",
      "4/4 - 0s - loss: 0.2607 - accuracy: 0.9143 - 20ms/epoch - 5ms/step\n",
      "Epoch 62/100\n",
      "4/4 - 0s - loss: 0.2632 - accuracy: 0.9143 - 21ms/epoch - 5ms/step\n",
      "Epoch 63/100\n",
      "4/4 - 0s - loss: 0.2595 - accuracy: 0.9429 - 19ms/epoch - 5ms/step\n",
      "Epoch 64/100\n",
      "4/4 - 0s - loss: 0.2017 - accuracy: 0.9429 - 21ms/epoch - 5ms/step\n",
      "Epoch 65/100\n",
      "4/4 - 0s - loss: 0.2375 - accuracy: 0.9333 - 20ms/epoch - 5ms/step\n",
      "Epoch 66/100\n",
      "4/4 - 0s - loss: 0.1981 - accuracy: 0.9619 - 20ms/epoch - 5ms/step\n",
      "Epoch 67/100\n",
      "4/4 - 0s - loss: 0.2021 - accuracy: 0.9429 - 19ms/epoch - 5ms/step\n",
      "Epoch 68/100\n",
      "4/4 - 0s - loss: 0.2136 - accuracy: 0.9238 - 20ms/epoch - 5ms/step\n",
      "Epoch 69/100\n",
      "4/4 - 0s - loss: 0.2241 - accuracy: 0.9429 - 21ms/epoch - 5ms/step\n",
      "Epoch 70/100\n",
      "4/4 - 0s - loss: 0.2054 - accuracy: 0.9429 - 20ms/epoch - 5ms/step\n",
      "Epoch 71/100\n",
      "4/4 - 0s - loss: 0.2154 - accuracy: 0.9429 - 21ms/epoch - 5ms/step\n",
      "Epoch 72/100\n",
      "4/4 - 0s - loss: 0.1990 - accuracy: 0.9524 - 20ms/epoch - 5ms/step\n",
      "Epoch 73/100\n",
      "4/4 - 0s - loss: 0.1681 - accuracy: 0.9714 - 20ms/epoch - 5ms/step\n",
      "Epoch 74/100\n",
      "4/4 - 0s - loss: 0.2183 - accuracy: 0.9238 - 20ms/epoch - 5ms/step\n",
      "Epoch 75/100\n",
      "4/4 - 0s - loss: 0.2027 - accuracy: 0.9429 - 20ms/epoch - 5ms/step\n",
      "Epoch 76/100\n",
      "4/4 - 0s - loss: 0.2177 - accuracy: 0.9143 - 21ms/epoch - 5ms/step\n",
      "Epoch 77/100\n",
      "4/4 - 0s - loss: 0.1941 - accuracy: 0.9333 - 22ms/epoch - 6ms/step\n",
      "Epoch 78/100\n",
      "4/4 - 0s - loss: 0.1817 - accuracy: 0.9143 - 21ms/epoch - 5ms/step\n",
      "Epoch 79/100\n",
      "4/4 - 0s - loss: 0.1924 - accuracy: 0.9429 - 21ms/epoch - 5ms/step\n",
      "Epoch 80/100\n",
      "4/4 - 0s - loss: 0.1942 - accuracy: 0.9524 - 22ms/epoch - 6ms/step\n",
      "Epoch 81/100\n",
      "4/4 - 0s - loss: 0.1768 - accuracy: 0.9714 - 24ms/epoch - 6ms/step\n",
      "Epoch 82/100\n",
      "4/4 - 0s - loss: 0.1872 - accuracy: 0.9619 - 22ms/epoch - 6ms/step\n",
      "Epoch 83/100\n",
      "4/4 - 0s - loss: 0.1433 - accuracy: 0.9619 - 19ms/epoch - 5ms/step\n",
      "Epoch 84/100\n",
      "4/4 - 0s - loss: 0.1771 - accuracy: 0.9429 - 21ms/epoch - 5ms/step\n",
      "Epoch 85/100\n",
      "4/4 - 0s - loss: 0.1556 - accuracy: 0.9714 - 23ms/epoch - 6ms/step\n",
      "Epoch 86/100\n",
      "4/4 - 0s - loss: 0.1705 - accuracy: 0.9429 - 19ms/epoch - 5ms/step\n",
      "Epoch 87/100\n",
      "4/4 - 0s - loss: 0.1704 - accuracy: 0.9619 - 22ms/epoch - 5ms/step\n",
      "Epoch 88/100\n",
      "4/4 - 0s - loss: 0.1500 - accuracy: 0.9619 - 18ms/epoch - 4ms/step\n",
      "Epoch 89/100\n",
      "4/4 - 0s - loss: 0.2220 - accuracy: 0.9048 - 21ms/epoch - 5ms/step\n",
      "Epoch 90/100\n",
      "4/4 - 0s - loss: 0.1750 - accuracy: 0.9524 - 23ms/epoch - 6ms/step\n",
      "Epoch 91/100\n",
      "4/4 - 0s - loss: 0.1432 - accuracy: 0.9524 - 20ms/epoch - 5ms/step\n",
      "Epoch 92/100\n",
      "4/4 - 0s - loss: 0.1845 - accuracy: 0.9429 - 22ms/epoch - 5ms/step\n",
      "Epoch 93/100\n",
      "4/4 - 0s - loss: 0.1463 - accuracy: 0.9524 - 22ms/epoch - 6ms/step\n",
      "Epoch 94/100\n",
      "4/4 - 0s - loss: 0.1478 - accuracy: 0.9524 - 20ms/epoch - 5ms/step\n",
      "Epoch 95/100\n",
      "4/4 - 0s - loss: 0.1514 - accuracy: 0.9524 - 23ms/epoch - 6ms/step\n",
      "Epoch 96/100\n",
      "4/4 - 0s - loss: 0.1585 - accuracy: 0.9524 - 21ms/epoch - 5ms/step\n",
      "Epoch 97/100\n",
      "4/4 - 0s - loss: 0.1409 - accuracy: 0.9524 - 19ms/epoch - 5ms/step\n",
      "Epoch 98/100\n",
      "4/4 - 0s - loss: 0.1557 - accuracy: 0.9524 - 20ms/epoch - 5ms/step\n",
      "Epoch 99/100\n",
      "4/4 - 0s - loss: 0.1626 - accuracy: 0.9524 - 20ms/epoch - 5ms/step\n",
      "Epoch 100/100\n",
      "4/4 - 0s - loss: 0.1447 - accuracy: 0.9429 - 20ms/epoch - 5ms/step\n"
     ]
    },
    {
     "data": {
      "text/plain": [
       "<keras.src.callbacks.History at 0x1e691531c90>"
      ]
     },
     "execution_count": 42,
     "metadata": {},
     "output_type": "execute_result"
    }
   ],
   "source": [
    "model.fit(x_train,y_train,epochs= 100, verbose=2) "
   ]
  },
  {
   "cell_type": "code",
   "execution_count": 45,
   "id": "230e02d2",
   "metadata": {},
   "outputs": [
    {
     "name": "stdout",
     "output_type": "stream",
     "text": [
      "2/2 [==============================] - 0s 10ms/step\n"
     ]
    }
   ],
   "source": [
    "prediction = model.predict(x_test)"
   ]
  },
  {
   "cell_type": "code",
   "execution_count": 48,
   "id": "10d07c4c",
   "metadata": {},
   "outputs": [],
   "source": [
    "import numpy as np\n",
    "prediction = np.argmax(prediction,axis=-1)"
   ]
  },
  {
   "cell_type": "code",
   "execution_count": 114,
   "id": "f1e9dc41",
   "metadata": {},
   "outputs": [
    {
     "name": "stdout",
     "output_type": "stream",
     "text": [
      "Tensor flow Model's accuracy score:- 1.0\n"
     ]
    }
   ],
   "source": [
    "from sklearn.metrics import accuracy_score ,confusion_matrix,precision_score, f1_score\n",
    "print(\"Tensor flow Model's accuracy score:-\",accuracy_score(y_test, prediction))"
   ]
  },
  {
   "cell_type": "code",
   "execution_count": 50,
   "id": "7debccf5",
   "metadata": {},
   "outputs": [
    {
     "data": {
      "text/plain": [
       "array([[19,  0,  0],\n",
       "       [ 0, 13,  0],\n",
       "       [ 0,  0, 13]], dtype=int64)"
      ]
     },
     "execution_count": 50,
     "metadata": {},
     "output_type": "execute_result"
    }
   ],
   "source": [
    "cm = confusion_matrix(y_test,prediction)\n",
    "cm"
   ]
  },
  {
   "cell_type": "code",
   "execution_count": 51,
   "id": "5318659d",
   "metadata": {},
   "outputs": [],
   "source": [
    "import seaborn as sns"
   ]
  },
  {
   "cell_type": "code",
   "execution_count": 52,
   "id": "f1a4c3ba",
   "metadata": {},
   "outputs": [],
   "source": [
    "df1 = pd.DataFrame({'species': ['Iris-setosa', 'Iris-versicolor', 'Iris-virginica']})"
   ]
  },
  {
   "cell_type": "code",
   "execution_count": 53,
   "id": "973e6ff0",
   "metadata": {},
   "outputs": [
    {
     "data": {
      "image/png": "[encoded data removed]",
      "text/plain": [
       "<Figure size 640x480 with 2 Axes>"
      ]
     },
     "metadata": {},
     "output_type": "display_data"
    }
   ],
   "source": [
    "ax = sns.heatmap(cm,annot=True,fmt=\"d\")\n",
    "ax.set_xticks(np.arange(len(df1[\"species\"])))\n",
    "ax.set_xticklabels(df1[\"species\"])\n",
    "ax.set_yticks(np.arange(len(df1[\"species\"])))\n",
    "ax.set_yticklabels(df1[\"species\"])\n",
    "plt.title(\"Confusion matrix\")\n",
    "plt.xlabel(\"Prediction\")\n",
    "plt.ylabel(\"Actual\")\n",
    "plt.show()"
   ]
  },
  {
   "cell_type": "code",
   "execution_count": 54,
   "id": "90021083",
   "metadata": {},
   "outputs": [
    {
     "name": "stdout",
     "output_type": "stream",
     "text": [
      "F1 score per class: [1. 1. 1.]\n"
     ]
    }
   ],
   "source": [
    "f1_per_class = f1_score(y_test, prediction, average=None)\n",
    "print(\"F1 score per class:\", f1_per_class)"
   ]
  },
  {
   "cell_type": "code",
   "execution_count": 55,
   "id": "4f822b96",
   "metadata": {},
   "outputs": [
    {
     "name": "stdout",
     "output_type": "stream",
     "text": [
      "Precision per class: [1. 1. 1.]\n"
     ]
    }
   ],
   "source": [
    "precision_per_class = precision_score(y_test, prediction, average=None)\n",
    "print(\"Precision per class:\", precision_per_class)"
   ]
  },
  {
   "cell_type": "code",
   "execution_count": null,
   "id": "2f806002",
   "metadata": {},
   "outputs": [],
   "source": []
  },
  {
   "cell_type": "code",
   "execution_count": null,
   "id": "9cd386b8",
   "metadata": {},
   "outputs": [],
   "source": []
  },
  {
   "cell_type": "code",
   "execution_count": 72,
   "id": "f931e6c0",
   "metadata": {},
   "outputs": [],
   "source": [
    "from sklearn.metrics import classification_report"
   ]
  },
  {
   "cell_type": "code",
   "execution_count": 121,
   "id": "230eccf5",
   "metadata": {},
   "outputs": [
    {
     "name": "stderr",
     "output_type": "stream",
     "text": [
      "C:\\Users\\Karthi\\anaconda3\\Lib\\site-packages\\sklearn\\neural_network\\_multilayer_perceptron.py:691: ConvergenceWarning: Stochastic Optimizer: Maximum iterations (500) reached and the optimization hasn't converged yet.\n",
      "  warnings.warn(\n"
     ]
    }
   ],
   "source": [
    "mlp_model = MLPClassifier(hidden_layer_sizes=(5), max_iter=500,random_state=42)\n",
    "mlp_model.fit(x_train, y_train)\n",
    "mlp_predictions = mlp_model.predict(x_test)"
   ]
  },
  {
   "cell_type": "code",
   "execution_count": 122,
   "id": "c8c56532",
   "metadata": {},
   "outputs": [
    {
     "name": "stdout",
     "output_type": "stream",
     "text": [
      "MLP Classifier Results:\n",
      "Classification Report:\n",
      "               precision    recall  f1-score   support\n",
      "\n",
      "           0       1.00      1.00      1.00        19\n",
      "           1       1.00      0.31      0.47        13\n",
      "           2       0.87      1.00      0.93        13\n",
      "\n",
      "   micro avg       0.95      0.80      0.87        45\n",
      "   macro avg       0.96      0.77      0.80        45\n",
      "weighted avg       0.96      0.80      0.83        45\n",
      " samples avg       0.80      0.80      0.80        45\n",
      "\n"
     ]
    },
    {
     "name": "stderr",
     "output_type": "stream",
     "text": [
      "C:\\Users\\Karthi\\anaconda3\\Lib\\site-packages\\sklearn\\metrics\\_classification.py:1469: UndefinedMetricWarning: Precision and F-score are ill-defined and being set to 0.0 in samples with no predicted labels. Use `zero_division` parameter to control this behavior.\n",
      "  _warn_prf(average, modifier, msg_start, len(result))\n"
     ]
    }
   ],
   "source": [
    "print(\"MLP Classifier Results:\")\n",
    "print(\"Classification Report:\\n\", classification_report(y_test1, mlp_predictions))"
   ]
  },
  {
   "cell_type": "code",
   "execution_count": 123,
   "id": "95eca498",
   "metadata": {},
   "outputs": [
    {
     "name": "stdout",
     "output_type": "stream",
     "text": [
      "Tensor flow Model's accuracy:- 1.0\n",
      "MLp's Accuracy: 0.8\n"
     ]
    }
   ],
   "source": [
    "print(\"Tensor flow Model's accuracy:-\",accuracy_score(y_test, prediction))\n",
    "print(\"MLp's Accuracy:\", accuracy_score(y_test1, mlp_predictions))"
   ]
  },
  {
   "cell_type": "code",
   "execution_count": null,
   "id": "096d534f",
   "metadata": {},
   "outputs": [],
   "source": []
  },
  {
   "cell_type": "code",
   "execution_count": 124,
   "id": "8651dd3d",
   "metadata": {},
   "outputs": [
    {
     "data": {
      "image/png": "[encoded data removed]",
      "text/plain": [
       "<Figure size 640x480 with 1 Axes>"
      ]
     },
     "metadata": {},
     "output_type": "display_data"
    }
   ],
   "source": [
    "labels = ['TensorFlow Model', 'MLP']\n",
    "tf_accuracy = accuracy_score(y_test, prediction)\n",
    "mlp_accuracy = accuracy_score(y_test1, mlp_predictions)\n",
    "accuracies = [tf_accuracy, mlp_accuracy]\n",
    "plt.bar(labels, accuracies, color=['blue', 'orange'])\n",
    "plt.ylabel('Accuracy')\n",
    "plt.title('Accuracy Comparison: TensorFlow vs MLP')\n",
    "plt.show()"
   ]
  },
  {
   "cell_type": "code",
   "execution_count": null,
   "id": "dbda0353",
   "metadata": {},
   "outputs": [],
   "source": []
  }
 ],
 "metadata": {
  "kernelspec": {
   "display_name": "Python 3 (ipykernel)",
   "language": "python",
   "name": "python3"
  },
  "language_info": {
   "codemirror_mode": {
    "name": "ipython",
    "version": 3
   },
   "file_extension": ".py",
   "mimetype": "text/x-python",
   "name": "python",
   "nbconvert_exporter": "python",
   "pygments_lexer": "ipython3",
   "version": "3.11.5"
  }
 },
 "nbformat": 4,
 "nbformat_minor": 5
}
